{
 "cells": [
  {
   "cell_type": "code",
   "execution_count": 1,
   "id": "b07b2556",
   "metadata": {},
   "outputs": [
    {
     "name": "stdout",
     "output_type": "stream",
     "text": [
      "6\n"
     ]
    }
   ],
   "source": [
    "#search the nth occurence\n",
    "\n",
    "list1 = [3,4,5,3,4,9,3]\n",
    "num = 3\n",
    "occ = 3\n",
    "count = 0\n",
    "for i in range(len(list1)):\n",
    "    if list1[i] == num :\n",
    "        count+=1\n",
    "        \n",
    "        if count ==occ:\n",
    "            index = i\n",
    "            break\n",
    "print(index)"
   ]
  },
  {
   "cell_type": "code",
   "execution_count": 2,
   "id": "85e3c162",
   "metadata": {},
   "outputs": [
    {
     "name": "stdout",
     "output_type": "stream",
     "text": [
      "90\n"
     ]
    }
   ],
   "source": [
    "#sum of numbers div by 5 and 3 from a range m and n\n",
    "m = 12\n",
    "n = 50\n",
    "sum =0\n",
    "for i in range(m,n):\n",
    "    if i%3==0 and i%5==0:\n",
    "        sum+=i        \n",
    "print(sum)"
   ]
  },
  {
   "cell_type": "code",
   "execution_count": 3,
   "id": "b9505c99",
   "metadata": {},
   "outputs": [
    {
     "name": "stdout",
     "output_type": "stream",
     "text": [
      "326\n"
     ]
    }
   ],
   "source": [
    "#count the numbers having digits 1,4,9 under a range\n",
    "start = 100\n",
    "end = 200\n",
    "for i in range(start,end):\n",
    "    d_count = 0\n",
    "    d_count2 =0\n",
    "    s_count =0\n",
    "    temp = i\n",
    "    num = i\n",
    "    while temp > 0 :\n",
    "        d_count+=1\n",
    "        temp = temp/10\n",
    "    while num > 0:\n",
    "        rem = num%10\n",
    "        if (rem!=1) and (rem!=4) and (rem!=9):\n",
    "               break\n",
    "        d_count2+=1\n",
    "        num = num/10\n",
    "    if d_count == d_count2:\n",
    "        s_count+=1\n",
    "        \n",
    "print(d_count)\n",
    "        "
   ]
  },
  {
   "cell_type": "code",
   "execution_count": 4,
   "id": "3845a581",
   "metadata": {},
   "outputs": [
    {
     "name": "stdout",
     "output_type": "stream",
     "text": [
      "s2a2hnk\n"
     ]
    }
   ],
   "source": [
    "#print the count and frequency of count of a string\n",
    "\n",
    "str1 = \"sashank\"\n",
    "dict1 = {}\n",
    "for i in str1:\n",
    "    if i not in dict1:\n",
    "        dict1[i] = 1 \n",
    "    elif i in dict1:\n",
    "        dict1[i] +=1\n",
    "n_str1 =\"\"\n",
    "for x,y in dict1.items():\n",
    "    if y<=1:\n",
    "        n_str1 +=x\n",
    "    else:\n",
    "        n_str1 +=x+str(y)\n",
    "print(n_str1)\n",
    "            \n",
    "    "
   ]
  },
  {
   "cell_type": "code",
   "execution_count": 5,
   "id": "3acd93d1",
   "metadata": {},
   "outputs": [
    {
     "name": "stdout",
     "output_type": "stream",
     "text": [
      "6\n"
     ]
    }
   ],
   "source": [
    "# trapping rain water\n",
    "\n",
    "def trapRainWater(arr):\n",
    "    n = len(arr)\n",
    "    left = []\n",
    "    right = []\n",
    "    left.append(arr[0])\n",
    "    for i in range(n):\n",
    "        left.append(max(left[i-1],arr[i]))\n",
    "    right.insert(n-1,arr[n-1])\n",
    "    temp = n\n",
    "    for i in range(0,n-1):\n",
    "        right.append(max(right[i-1],arr[i]))\n",
    "    ans = 0\n",
    "    for i in range(n):\n",
    "        ans = ans + (min(left[i],right[i]) - arr[i])\n",
    "    return ans\n",
    "        \n",
    "\n",
    "arr = [3,0,0,3]\n",
    "print(trapRainWater(arr))\n"
   ]
  },
  {
   "cell_type": "code",
   "execution_count": 6,
   "id": "0966a3b5",
   "metadata": {},
   "outputs": [
    {
     "name": "stdout",
     "output_type": "stream",
     "text": [
      "0None\n"
     ]
    }
   ],
   "source": [
    "#decimal to binary conversion\n",
    "\n",
    "def DecimalToBinary(num):\n",
    "     \n",
    "    if num >= 1:\n",
    "        DecimalToBinary(num // 2)\n",
    "    print(num % 2, end = '')\n",
    "\n",
    "\n",
    "number = 0\n",
    "print(DecimalToBinary(number))"
   ]
  },
  {
   "cell_type": "code",
   "execution_count": 57,
   "id": "56942bdb",
   "metadata": {},
   "outputs": [
    {
     "name": "stdout",
     "output_type": "stream",
     "text": [
      "time\n"
     ]
    }
   ],
   "source": [
    "#longest word without special characters\n",
    "\n",
    "def LongestWord(str1):\n",
    "    n_str =\"\"\n",
    "    max_len = 0\n",
    "    ans = \"\"\n",
    "    for i in range(len(str1)):\n",
    "        if str1[i].isalpha() or str1[i]==\" \":\n",
    "            n_str +=str1[i]\n",
    "    n_str = n_str.split(\" \")\n",
    "    for i in n_str:\n",
    "        if len(i) >= max_len:\n",
    "            max_len = len(i)\n",
    "            ans = i \n",
    "    return ans\n",
    "\n",
    "str1=\"time@ i34s fun\"\n",
    "print(LongestWord(str1))"
   ]
  },
  {
   "cell_type": "code",
   "execution_count": null,
   "id": "fc3a9111",
   "metadata": {},
   "outputs": [],
   "source": []
  }
 ],
 "metadata": {
  "kernelspec": {
   "display_name": "Python 3 (ipykernel)",
   "language": "python",
   "name": "python3"
  },
  "language_info": {
   "codemirror_mode": {
    "name": "ipython",
    "version": 3
   },
   "file_extension": ".py",
   "mimetype": "text/x-python",
   "name": "python",
   "nbconvert_exporter": "python",
   "pygments_lexer": "ipython3",
   "version": "3.9.12"
  }
 },
 "nbformat": 4,
 "nbformat_minor": 5
}
